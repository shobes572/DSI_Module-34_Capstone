{
 "cells": [
  {
   "cell_type": "markdown",
   "metadata": {},
   "source": [
    "# Stock Prediction Research Proposal"
   ]
  },
  {
   "cell_type": "markdown",
   "metadata": {},
   "source": [
    "### Introduction\n",
    "\n",
    "The main purpose of this research project is to create a Stock-prediction application to be used as a day-trading application to support investment decisions for beginners.  The Target Audience for the project would be a tech company to whom I would be selling my model my model, or pushing my model to the implementation team who would integrate with a web app or on a mobile device.  \n",
    "\n",
    "### Research Design\n",
    "\n",
    "[Day Trading](https://www.thestreet.com/investing/how-much-money-do-you-need-to-start-day-trading-15176512) has a few legal definitions outlined by the [SEC](https://www.sec.gov/files/daytrading.pdf), with some possible broader definitions being applied by your broker.  For a beginning investor that won't necessarily want to commit $25,000, I will develop a model and application that can accurately predict high-yield trades over a timeframe that doesn't quite qualify as day-trading.  For the purposes of this research, we will not be including options and other securities as possible transactions for the model.\n",
    "\n",
    ">_Executing four or more day trades within five business days_\n",
    ">\n",
    "> #### _-SEC_\n",
    "\n",
    "So with a limit of four buy/sell transactions per week I will begin the model-building process with the assumed structure that we will buy a single stock on Monday Morning at opening and sell on Tuesday Morning at opening, and so on.  \n",
    "* First, we'd need to define our stock universe\n",
    "  * **Consideration 1:** Liquidity is one of the primary concerns when trading on short timespans.  Just because you want to sell your stocks from what your algorithm is showing, doesn't mean that there are people buying.\n",
    "  * **Consideration 2:** Volatility is the next factor we'll be considering.  A higher volatility offers the opportunity for more gains at an increased risk.  This measure is often calculated with the [Sharpe Ratio](https://www.investopedia.com/terms/s/sharperatio.asp) but the [Sortino Ratio](https://www.investopedia.com/terms/s/sortinoratio.asp) will likely be a better metric since it doesn't penalize net positive volatility.\n",
    "  * Taking both of these consideration, I will be building the model with mid-cap stocks\n",
    "* Define the Historic timeframe for or predictions (2 days, 1 week, 2 weeks, etc.)\n",
    "* Decompose the time series and build a Deep Learning ML model on the data\n",
    "* Validate model accuracy and test live with paper trading on Alpaca\n",
    "\n",
    "As we all know, predicting stock values based purely on the time series data is difficult due to the volatile nature of mid-cap stocks.  So I will also include some of the following as market indicators and techniques for a multi-input deeplearning model:\n",
    "* Text data, vectorized with TFIDF or similar vectorizing techniques in NLP to measure sentiment toward a company in a given time period from one of the following sources:\n",
    "  * Financial News Headlines\n",
    "  * [Twitter data](https://developer.twitter.com/en/docs)\n",
    "  * [stockwits](https://api.stocktwits.com/developers/docs)\n",
    "* [Applying CNN techniques](https://arxiv.org/abs/2001.09769) is a relatively new, novel way of modeling stock data that can apparently get better prediction accuracy than traditional time series modeling techniques used for stock data."
   ]
  },
  {
   "cell_type": "markdown",
   "metadata": {},
   "source": [
    "### Data\n",
    "\n",
    "The primary focus for data will be acquiring market data from either [Polygon](https://polygon.io/stocks?gclid=Cj0KCQjwudb3BRC9ARIsAEa-vUu_C5pdMe26WRhWcj7nSpezXzIyXIs-Dec_LxrlkweD0nFN0MUlCPMaAo_OEALw_wcB) ([Alpaca](https://alpaca.markets/docs/) uses live Polygon data and can be used for live trading and paper trading to validate the model's efficacy) or [Yahoo Finance](https://rapidapi.com/apidojo/api/yahoo-finance1) and then adding predictors to increase the accuracy of the model, via [Twitter](https://developer.twitter.com/en/docs), [stockwits](https://api.stocktwits.com/developers/docs), News, etc.\n",
    "\n",
    "### Conclusion\n",
    "\n",
    "The final, intended use-case for this model would be an optimized, automated, investor that would be able to perform multiple 'smart' decisions on trading.  Once model integrity is established with a goal performance of 15% portfolio growth (average market return for both the S&P500 and Dow Jones Industrial Average in 2019)(**Note:** the projected market return for 2020 is around _6-10%_ , and the running 10-year average stays around _10-12%_ ).  The model will also keep a live, ranked list of top stocks to invest in as an additional output for investors that may not be comfortable using algorithmic trading.\n",
    "\n",
    "This will all be done without input from the end user.  Future features can be added that would allow an investor to define their own stock universe, transaction limit frequency, portfolio diversity, etc.  Alpaca is the broker for the trading in this model, so the end user would need to have an account created and linked to their bank account for them to be able to use trading script.  The final script would need to be hosted on some sort of cloud system like [Amazon EC2](https://aws.amazon.com/ec2/), [Ubuntu Server](https://ubuntu.com/server), [OVHCloud](https://www.ovh.co.uk/), etc."
   ]
  },
  {
   "cell_type": "markdown",
   "metadata": {},
   "source": [
    "### Additional Resources\n",
    "\n",
    "* [SimFin](https://github.com/SimFin/simfin-tutorials)\n",
    "* [Alpaca Pipeline](https://github.com/alpacahq/pipeline-live)\n",
    "* [Quantitative Finance on Udemy](https://www.udemy.com/course/quantitative-finance-algorithmic-trading-in-python/)\n",
    "* [Pandas Technical Analysis](https://github.com/twopirllc/pandas-ta)\n",
    "* [Stock Universe](https://www.robertbrain.com/share-market/your-stock-universe.html)"
   ]
  }
 ],
 "metadata": {
  "kernelspec": {
   "display_name": "Python 3",
   "language": "python",
   "name": "python3"
  },
  "language_info": {
   "codemirror_mode": {
    "name": "ipython",
    "version": 3
   },
   "file_extension": ".py",
   "mimetype": "text/x-python",
   "name": "python",
   "nbconvert_exporter": "python",
   "pygments_lexer": "ipython3",
   "version": "3.7.7"
  }
 },
 "nbformat": 4,
 "nbformat_minor": 2
}
